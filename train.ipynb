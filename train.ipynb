{
 "cells": [
  {
   "cell_type": "code",
   "execution_count": null,
   "metadata": {
    "vscode": {
     "languageId": "plaintext"
    }
   },
   "outputs": [],
   "source": [
    "!pip3 install -U packaging==23.2 setuptools==75.8.0 wheel ninja huggingface_hub transformers\n",
    "!pip3 install --no-build-isolation axolotl[flash-attn,deepspeed]\n",
    "\n",
    "!git clone https://github.com/edmondbilli/text_lora\n",
    "!wget https://huggingface.co/DavidAU/Llama-3.2-8X4B-MOE-V2-Dark-Champion-Instruct-uncensored-abliterated-21B-GGUF/resolve/main/L3.2-8X4B-MOE-V2-Dark-Champion-Inst-21B-uncen-ablit-D_AU-IQ4_XS.gguf"
   ]
  },
  {
   "cell_type": "code",
   "execution_count": null,
   "metadata": {
    "vscode": {
     "languageId": "plaintext"
    }
   },
   "outputs": [],
   "source": [
    "from huggingface_hub import snapshot_download\n",
    "import os\n",
    "\n",
    "model_name = \"meta-llama/Llama-4-Scout-17B-16E-Instruct\"\n",
    "local_path = \"./llama4_scout_17b\"\n",
    "\n",
    "snapshot_download(\n",
    "    repo_id=model_name,\n",
    "    local_dir=local_path,\n",
    "    local_dir_use_symlinks=False,  # Copies actual files\n",
    "    ignore_patterns=[\"*.gguf\", \"*.ot\", \"*.msgpack\"]  # Optional cleanup\n",
    ")\n",
    "\n",
    "os.makedirs(\"./outputs\", exist_ok=True)\n",
    "\n",
    "\n"
   ]
  },
  {
   "cell_type": "code",
   "execution_count": null,
   "metadata": {
    "vscode": {
     "languageId": "plaintext"
    }
   },
   "outputs": [],
   "source": [
    "!axolotl train axolotl_nsfw_lora.yaml"
   ]
  }
 ],
 "metadata": {
  "language_info": {
   "name": "python"
  }
 },
 "nbformat": 4,
 "nbformat_minor": 2
}
